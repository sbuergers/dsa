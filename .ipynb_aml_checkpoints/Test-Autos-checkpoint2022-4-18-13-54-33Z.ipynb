{
  "cells": [
    {
      "cell_type": "code",
      "source": [
        "endpoint = 'http://a42148b8-58f8-44a1-b91f-4804d39566ce.westeurope.azurecontainer.io/score' #Replace with your endpoint\r\n",
        "key = 'U1oAcjcmZGffQLPNiRjLp1WYzdo4l1VT' #Replace with your key\r\n",
        "\r\n",
        "import urllib.request\r\n",
        "import json\r\n",
        "import os\r\n",
        "\r\n",
        "# Prepare the input data\r\n",
        "data = {\r\n",
        "    \"Inputs\": {\r\n",
        "        \"WebServiceInput0\":\r\n",
        "        [\r\n",
        "            {\r\n",
        "                    'symboling': 3,\r\n",
        "                    'normalized-losses': None,\r\n",
        "                    'make': \"alfa-romero\",\r\n",
        "                    'fuel-type': \"gas\",\r\n",
        "                    'aspiration': \"std\",\r\n",
        "                    'num-of-doors': \"two\",\r\n",
        "                    'body-style': \"convertible\",\r\n",
        "                    'drive-wheels': \"rwd\",\r\n",
        "                    'engine-location': \"front\",\r\n",
        "                    'wheel-base': 88.6,\r\n",
        "                    'length': 168.8,\r\n",
        "                    'width': 64.1,\r\n",
        "                    'height': 48.8,\r\n",
        "                    'curb-weight': 2548,\r\n",
        "                    'engine-type': \"dohc\",\r\n",
        "                    'num-of-cylinders': \"four\",\r\n",
        "                    'engine-size': 130,\r\n",
        "                    'fuel-system': \"mpfi\",\r\n",
        "                    'bore': 3.47,\r\n",
        "                    'stroke': 2.68,\r\n",
        "                    'compression-ratio': 9,\r\n",
        "                    'horsepower': 111,\r\n",
        "                    'peak-rpm': 5000,\r\n",
        "                    'city-mpg': 21,\r\n",
        "                    'highway-mpg': 27,\r\n",
        "            },\r\n",
        "        ],\r\n",
        "    },\r\n",
        "    \"GlobalParameters\":  {\r\n",
        "    }\r\n",
        "}\r\n",
        "body = str.encode(json.dumps(data))\r\n",
        "headers = {'Content-Type':'application/json', 'Authorization':('Bearer '+ key)}\r\n",
        "req = urllib.request.Request(endpoint, body, headers)\r\n",
        "\r\n",
        "try:\r\n",
        "    response = urllib.request.urlopen(req)\r\n",
        "    result = response.read()\r\n",
        "    json_result = json.loads(result)\r\n",
        "    y = json_result[\"Results\"][\"WebServiceOutput0\"][0][\"predicted_price\"]\r\n",
        "    print('Predicted price: {:.2f}'.format(y))\r\n",
        "\r\n",
        "except urllib.error.HTTPError as error:\r\n",
        "    print(\"The request failed with status code: \" + str(error.code))\r\n",
        "\r\n",
        "    # Print the headers to help debug the error\r\n",
        "    print(error.info())\r\n",
        "    print(json.loads(error.read().decode(\"utf8\", 'ignore')))"
      ],
      "outputs": [],
      "execution_count": null,
      "metadata": {}
    }
  ],
  "metadata": {
    "kernelspec": {
      "name": "python38-azureml",
      "language": "python",
      "display_name": "Python 3.8 - AzureML"
    },
    "language_info": {
      "name": "python",
      "version": "3.8.5",
      "mimetype": "text/x-python",
      "codemirror_mode": {
        "name": "ipython",
        "version": 3
      },
      "pygments_lexer": "ipython3",
      "nbconvert_exporter": "python",
      "file_extension": ".py"
    },
    "kernel_info": {
      "name": "python38-azureml"
    },
    "nteract": {
      "version": "nteract-front-end@1.0.0"
    }
  },
  "nbformat": 4,
  "nbformat_minor": 2
}