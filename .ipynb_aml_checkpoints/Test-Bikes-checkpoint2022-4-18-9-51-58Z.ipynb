{
  "cells": [
    {
      "cell_type": "code",
      "source": [
        "endpoint = 'http://7dbb49bd-5ec4-4616-b581-4a605ebe34ff.westeurope.azurecontainer.io/score' #Replace with your endpoint \r\n",
        "key = '7DRLDxrwGIuWFquWPnEoErhoMMsryy0E' #Replace with your key \r\n",
        "\r\n",
        "\r\n",
        "import json \r\n",
        "import requests \r\n",
        "\r\n",
        "\r\n",
        "#An array of features based on five-day weather forecast \r\n",
        "x = [\r\n",
        "    [1,1,2022,1,0,6,0,2,0.344167,0.363625,0.805833,0.160446], \r\n",
        "    [2,1,2022,1,0,0,0,2,0.363478,0.353739,0.696087,0.248539], \r\n",
        "    [3,1,2022,1,0,1,1,1,0.196364,0.189405,0.437273,0.248309], \r\n",
        "    [4,1,2022,1,0,2,1,1,0.2,0.212122,0.590435,0.160296], \r\n",
        "    [5,1,2022,1,0,3,1,1,0.226957,0.22927,0.436957,0.1869],\r\n",
        "] \r\n",
        "\r\n",
        "#Convert the array to JSON format \r\n",
        "input_json = json.dumps({\"data\": x}) \r\n",
        "\r\n",
        "input_json = {\r\n",
        "    \"Inputs\": {\r\n",
        "    \"data\": [\r\n",
        "        {\r\n",
        "            \"day\": 0,\r\n",
        "            \"mnth\": 0,\r\n",
        "            \"year\": 0,\r\n",
        "            \"season\": 0,\r\n",
        "            \"holiday\": 0,\r\n",
        "            \"weekday\": 0,\r\n",
        "            \"workingday\": 0,\r\n",
        "            \"weathersit\": 0,\r\n",
        "            \"temp\": 0.0,\r\n",
        "            \"atemp\": 0.0,\r\n",
        "            \"hum\": 0.0,\r\n",
        "            \"windspeed\": 0.0,\r\n",
        "        }\r\n",
        "    ]\r\n",
        "    }\r\n",
        "}\r\n",
        "\r\n",
        "#Set the content type and authentication for the request \r\n",
        "headers = {\"Content-Type\":\"application/json\", \"Authorization\":\"Bearer \" + key} \r\n",
        "\r\n",
        "#Send the request \r\n",
        "response = requests.post(endpoint, input_json, headers=headers) \r\n",
        "\r\n",
        "#If we got a valid response, display the predictions \r\n",
        "if response.status_code == 200: \r\n",
        "    y = json.loads(response.json()) \r\n",
        "\r\n",
        "    print(\"Predictions:\") \r\n",
        "\r\n",
        "    for i in range(len(x)): \r\n",
        "        print (\" Day: {}. Predicted rentals: {}\".format(i+1, max(0, round(y[\"result\"][i])))) \r\n",
        "else: \r\n",
        "    print(response) "
      ],
      "outputs": [
        {
          "output_type": "stream",
          "name": "stdout",
          "text": "<Response [502]>\n"
        }
      ],
      "execution_count": 37,
      "metadata": {
        "gather": {
          "logged": 1652867499731
        }
      }
    },
    {
      "cell_type": "code",
      "source": [
        "response.content"
      ],
      "outputs": [
        {
          "output_type": "execute_result",
          "execution_count": 38,
          "data": {
            "text/plain": "b'An unexpected internal error occurred. Encountered Exception: Traceback (most recent call last):\\n  File \"/azureml-envs/azureml_61b883c981e1199704b60f5cc50378fa/lib/python3.7/site-packages/flask/wrappers.py\", line 74, in get_json\\n    rv = json.loads(data)\\n  File \"/azureml-envs/azureml_61b883c981e1199704b60f5cc50378fa/lib/python3.7/site-packages/flask/json/__init__.py\", line 236, in loads\\n    return _json.loads(s, **kwargs)\\n  File \"/azureml-envs/azureml_61b883c981e1199704b60f5cc50378fa/lib/python3.7/json/__init__.py\", line 361, in loads\\n    return cls(**kw).decode(s)\\n  File \"/azureml-envs/azureml_61b883c981e1199704b60f5cc50378fa/lib/python3.7/json/decoder.py\", line 337, in decode\\n    obj, end = self.raw_decode(s, idx=_w(s, 0).end())\\n  File \"/azureml-envs/azureml_61b883c981e1199704b60f5cc50378fa/lib/python3.7/json/decoder.py\", line 355, in raw_decode\\n    raise JSONDecodeError(\"Expecting value\", s, err.value) from None\\njson.decoder.JSONDecodeError: Expecting value: line 1 column 1 (char 0)\\n\\nDuring handling of the above exception, another exception occurred:\\n\\nTraceback (most recent call last):\\n  File \"/azureml-envs/azureml_61b883c981e1199704b60f5cc50378fa/lib/python3.7/site-packages/flask/app.py\", line 1832, in full_dispatch_request\\n    rv = self.dispatch_request()\\n  File \"/azureml-envs/azureml_61b883c981e1199704b60f5cc50378fa/lib/python3.7/site-packages/flask/app.py\", line 1818, in dispatch_request\\n    return self.view_functions[rule.endpoint](**req.view_args)\\n  File \"/var/azureml-server/synchronous/routes.py\", line 38, in score_realtime\\n    service_input = request.get_json()\\n  File \"/azureml-envs/azureml_61b883c981e1199704b60f5cc50378fa/lib/python3.7/site-packages/flask/wrappers.py\", line 82, in get_json\\n    rv = self.on_json_loading_failed(e)\\n  File \"/azureml-envs/azureml_61b883c981e1199704b60f5cc50378fa/lib/python3.7/site-packages/flask/wrappers.py\", line 108, in on_json_loading_failed\\n    raise BadRequest()\\nwerkzeug.exceptions.BadRequest: 400 Bad Request: The browser (or proxy) sent a request that this server could not understand.\\n'"
          },
          "metadata": {}
        }
      ],
      "execution_count": 38,
      "metadata": {
        "jupyter": {
          "source_hidden": false,
          "outputs_hidden": false
        },
        "nteract": {
          "transient": {
            "deleting": false
          }
        },
        "gather": {
          "logged": 1652867504008
        }
      }
    },
    {
      "cell_type": "code",
      "source": [],
      "outputs": [],
      "execution_count": null,
      "metadata": {
        "jupyter": {
          "source_hidden": false,
          "outputs_hidden": false
        },
        "nteract": {
          "transient": {
            "deleting": false
          }
        }
      }
    }
  ],
  "metadata": {
    "kernelspec": {
      "name": "python38-azureml",
      "language": "python",
      "display_name": "Python 3.8 - AzureML"
    },
    "language_info": {
      "name": "python",
      "version": "3.8.5",
      "mimetype": "text/x-python",
      "codemirror_mode": {
        "name": "ipython",
        "version": 3
      },
      "pygments_lexer": "ipython3",
      "nbconvert_exporter": "python",
      "file_extension": ".py"
    },
    "kernel_info": {
      "name": "python38-azureml"
    },
    "nteract": {
      "version": "nteract-front-end@1.0.0"
    }
  },
  "nbformat": 4,
  "nbformat_minor": 2
}