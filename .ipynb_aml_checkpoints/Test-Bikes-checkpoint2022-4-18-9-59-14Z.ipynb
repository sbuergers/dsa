{
  "cells": [
    {
      "cell_type": "code",
      "source": [
        "endpoint = 'http://7dbb49bd-5ec4-4616-b581-4a605ebe34ff.westeurope.azurecontainer.io/score' #Replace with your endpoint \r\n",
        "key = '7DRLDxrwGIuWFquWPnEoErhoMMsryy0E' #Replace with your key \r\n",
        "\r\n",
        "\r\n",
        "import json \r\n",
        "import requests \r\n",
        "import numpy as np \r\n",
        "\r\n",
        "\r\n",
        "#An array of features based on five-day weather forecast \r\n",
        "x = np.array(\r\n",
        "    [\r\n",
        "        [1,1,2022,1,0,6,0,2,0.344167,0.363625,0.805833,0.160446], \r\n",
        "        [2,1,2022,1,0,0,0,2,0.363478,0.353739,0.696087,0.248539], \r\n",
        "        [3,1,2022,1,0,1,1,1,0.196364,0.189405,0.437273,0.248309], \r\n",
        "        [4,1,2022,1,0,2,1,1,0.2,0.212122,0.590435,0.160296], \r\n",
        "        [5,1,2022,1,0,3,1,1,0.226957,0.22927,0.436957,0.1869],\r\n",
        "    ]\r\n",
        ")\r\n",
        "\r\n",
        "#Convert the array to JSON format\r\n",
        "input_json = json.dumps({\r\n",
        "  \"Inputs\": {\r\n",
        "    \"data\": [\r\n",
        "      {\r\n",
        "        \"day\": [],\r\n",
        "        \"mnth\": 0,\r\n",
        "        \"year\": 0,\r\n",
        "        \"season\": 0,\r\n",
        "        \"holiday\": 0,\r\n",
        "        \"weekday\": 0,\r\n",
        "        \"workingday\": 0,\r\n",
        "        \"weathersit\": 0,\r\n",
        "        \"temp\": 0.0,\r\n",
        "        \"atemp\": 0.0,\r\n",
        "        \"hum\": 0.0,\r\n",
        "        \"windspeed\": 0.0\r\n",
        "      }\r\n",
        "    ]\r\n",
        "  },\r\n",
        "  \"GlobalParameters\": 0.0\r\n",
        "})\r\n",
        "\r\n",
        "#Set the content type and authentication for the request \r\n",
        "headers = {\"Content-Type\":\"application/json\", \"Authorization\":\"Bearer \" + key} \r\n",
        "\r\n",
        "#Send the request \r\n",
        "response = requests.post(endpoint, input_json, headers=headers) \r\n",
        "\r\n",
        "#If we got a valid response, display the predictions \r\n",
        "if response.status_code == 200: \r\n",
        "    y = json.loads(response.content.decode())\r\n",
        "\r\n",
        "    print(\"Predictions:\") \r\n",
        "\r\n",
        "    for i in range(len(x)): \r\n",
        "        print (\" Day: {}. Predicted rentals: {}\".format(i+1, max(0, round(y[\"Results\"][i])))) \r\n",
        "else: \r\n",
        "    print(response) "
      ],
      "outputs": [
        {
          "output_type": "stream",
          "name": "stdout",
          "text": "Predictions:\n Day: 1. Predicted rentals: 728\n"
        },
        {
          "output_type": "error",
          "ename": "IndexError",
          "evalue": "list index out of range",
          "traceback": [
            "\u001b[0;31m---------------------------------------------------------------------------\u001b[0m",
            "\u001b[0;31mIndexError\u001b[0m                                Traceback (most recent call last)",
            "\u001b[0;32m<ipython-input-57-2f2cf7db8b32>\u001b[0m in \u001b[0;36m<module>\u001b[0;34m\u001b[0m\n\u001b[1;32m     54\u001b[0m \u001b[0;34m\u001b[0m\u001b[0m\n\u001b[1;32m     55\u001b[0m     \u001b[0;32mfor\u001b[0m \u001b[0mi\u001b[0m \u001b[0;32min\u001b[0m \u001b[0mrange\u001b[0m\u001b[0;34m(\u001b[0m\u001b[0mlen\u001b[0m\u001b[0;34m(\u001b[0m\u001b[0mx\u001b[0m\u001b[0;34m)\u001b[0m\u001b[0;34m)\u001b[0m\u001b[0;34m:\u001b[0m\u001b[0;34m\u001b[0m\u001b[0;34m\u001b[0m\u001b[0m\n\u001b[0;32m---> 56\u001b[0;31m         \u001b[0mprint\u001b[0m \u001b[0;34m(\u001b[0m\u001b[0;34m\" Day: {}. Predicted rentals: {}\"\u001b[0m\u001b[0;34m.\u001b[0m\u001b[0mformat\u001b[0m\u001b[0;34m(\u001b[0m\u001b[0mi\u001b[0m\u001b[0;34m+\u001b[0m\u001b[0;36m1\u001b[0m\u001b[0;34m,\u001b[0m \u001b[0mmax\u001b[0m\u001b[0;34m(\u001b[0m\u001b[0;36m0\u001b[0m\u001b[0;34m,\u001b[0m \u001b[0mround\u001b[0m\u001b[0;34m(\u001b[0m\u001b[0my\u001b[0m\u001b[0;34m[\u001b[0m\u001b[0;34m\"Results\"\u001b[0m\u001b[0;34m]\u001b[0m\u001b[0;34m[\u001b[0m\u001b[0mi\u001b[0m\u001b[0;34m]\u001b[0m\u001b[0;34m)\u001b[0m\u001b[0;34m)\u001b[0m\u001b[0;34m)\u001b[0m\u001b[0;34m)\u001b[0m\u001b[0;34m\u001b[0m\u001b[0;34m\u001b[0m\u001b[0m\n\u001b[0m\u001b[1;32m     57\u001b[0m \u001b[0;32melse\u001b[0m\u001b[0;34m:\u001b[0m\u001b[0;34m\u001b[0m\u001b[0;34m\u001b[0m\u001b[0m\n\u001b[1;32m     58\u001b[0m     \u001b[0mprint\u001b[0m\u001b[0;34m(\u001b[0m\u001b[0mresponse\u001b[0m\u001b[0;34m)\u001b[0m\u001b[0;34m\u001b[0m\u001b[0;34m\u001b[0m\u001b[0m\n",
            "\u001b[0;31mIndexError\u001b[0m: list index out of range"
          ]
        }
      ],
      "execution_count": 57,
      "metadata": {
        "gather": {
          "logged": 1652867731796
        }
      }
    },
    {
      "cell_type": "code",
      "source": [
        "y"
      ],
      "outputs": [
        {
          "output_type": "execute_result",
          "execution_count": 56,
          "data": {
            "text/plain": "{'Results': [727.9161132999438]}"
          },
          "metadata": {}
        }
      ],
      "execution_count": 56,
      "metadata": {
        "jupyter": {
          "source_hidden": false,
          "outputs_hidden": false
        },
        "nteract": {
          "transient": {
            "deleting": false
          }
        },
        "gather": {
          "logged": 1652867725623
        }
      }
    },
    {
      "cell_type": "code",
      "source": [
        "x = [\r\n",
        "    [1,1,2022,1,0,6,0,2,0.344167,0.363625,0.805833,0.160446], \r\n",
        "    [2,1,2022,1,0,0,0,2,0.363478,0.353739,0.696087,0.248539], \r\n",
        "    [3,1,2022,1,0,1,1,1,0.196364,0.189405,0.437273,0.248309], \r\n",
        "    [4,1,2022,1,0,2,1,1,0.2,0.212122,0.590435,0.160296], \r\n",
        "    [5,1,2022,1,0,3,1,1,0.226957,0.22927,0.436957,0.1869],\r\n",
        "] "
      ],
      "outputs": [],
      "execution_count": 58,
      "metadata": {
        "jupyter": {
          "source_hidden": false,
          "outputs_hidden": false
        },
        "nteract": {
          "transient": {
            "deleting": false
          }
        },
        "gather": {
          "logged": 1652867842950
        }
      }
    },
    {
      "cell_type": "code",
      "source": [],
      "outputs": [
        {
          "output_type": "execute_result",
          "execution_count": 67,
          "data": {
            "text/plain": "array([1., 2., 3., 4., 5.])"
          },
          "metadata": {}
        }
      ],
      "execution_count": 67,
      "metadata": {
        "jupyter": {
          "source_hidden": false,
          "outputs_hidden": false
        },
        "nteract": {
          "transient": {
            "deleting": false
          }
        },
        "gather": {
          "logged": 1652867932453
        }
      }
    },
    {
      "cell_type": "code",
      "source": [],
      "outputs": [],
      "execution_count": null,
      "metadata": {
        "jupyter": {
          "source_hidden": false,
          "outputs_hidden": false
        },
        "nteract": {
          "transient": {
            "deleting": false
          }
        }
      }
    }
  ],
  "metadata": {
    "kernelspec": {
      "name": "python38-azureml",
      "language": "python",
      "display_name": "Python 3.8 - AzureML"
    },
    "language_info": {
      "name": "python",
      "version": "3.8.5",
      "mimetype": "text/x-python",
      "codemirror_mode": {
        "name": "ipython",
        "version": 3
      },
      "pygments_lexer": "ipython3",
      "nbconvert_exporter": "python",
      "file_extension": ".py"
    },
    "kernel_info": {
      "name": "python38-azureml"
    },
    "nteract": {
      "version": "nteract-front-end@1.0.0"
    }
  },
  "nbformat": 4,
  "nbformat_minor": 2
}